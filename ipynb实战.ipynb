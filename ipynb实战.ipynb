{
 "cells": [
  {
   "cell_type": "markdown",
   "metadata": {},
   "source": [
    "### 猎聘工作爬虫\n",
    "- 猎聘网站url中的key值决定爬到工作的类型"
   ]
  },
  {
   "cell_type": "code",
   "execution_count": 1,
   "metadata": {
    "scrolled": false
   },
   "outputs": [
    {
     "name": "stdout",
     "output_type": "stream",
     "text": [
      "python web全栈开发工程师\n",
      "{'https://www.liepin.com/job/1924355551.shtml'}\n",
      "web 研发工程师（Golang/Python 外派高德）\n",
      "{'https://www.liepin.com/job/1926848507.shtml'}\n",
      "少儿编程老师-Web.Python.JAVA\n",
      "{'https://www.liepin.com/job/1926789455.shtml'}\n",
      "Python后端工程师（Web方向）\n",
      "{'https://www.liepin.com/job/1917677641.shtml'}\n",
      "python Web开发程序员\n",
      "{'https://www.liepin.com/job/1925851271.shtml'}\n",
      "YF-测试开发工程师(Python Web开发)-01\n",
      "{'https://www.liepin.com/job/198638781.shtml'}\n",
      "WEB服务架构师(Python)-重庆\n",
      "{'https://www.liepin.com/job/1918579707.shtml'}\n",
      "python web开发工程师\n",
      "{'https://www.liepin.com/a/19336389.shtml'}\n",
      "中高级Python/Java-web开发\n",
      "{'https://www.liepin.com/a/19243011.shtml'}\n",
      "python web见习生\n",
      "{'https://www.liepin.com/job/1922657229.shtml'}\n",
      "python web 开发工程师\n",
      "{'https://www.liepin.com/job/1916291885.shtml'}\n",
      "Python Web 网站开发\n",
      "{'https://www.liepin.com/job/1920583581.shtml'}\n",
      "Python web开发工程师\n",
      "{'https://www.liepin.com/job/1920901673.shtml'}\n",
      "java/web前端/c/c++/python开发\n",
      "{'https://www.liepin.com/job/1920419075.shtml'}\n",
      "Web后端开发工程师（Java/Python）\n",
      "{'https://www.liepin.com/job/195777709.shtml'}\n",
      "python后端软件web开发\n",
      "{'https://www.liepin.com/job/1918888147.shtml'}\n",
      "Python web 开发工程师\n",
      "{'https://www.liepin.com/job/1916243321.shtml'}\n",
      "python web研究员(J11754)\n",
      "{'https://www.liepin.com/job/1917291247.shtml'}\n",
      "Web后台Python高级开发工程师\n",
      "{'https://www.liepin.com/job/1915059494.shtml'}\n",
      "python web开发工程师\n",
      "{'https://www.liepin.com/job/1912051002.shtml'}\n",
      "量化交易系统开发工程师\n",
      "{'https://www.liepin.com/job/1922305461.shtml'}\n",
      "前端工程师\n",
      "{'https://www.liepin.com/job/1922984763.shtml'}\n",
      "python开发工程师\n",
      "{'https://www.liepin.com/job/1925859877.shtml'}\n",
      "BA经理\n",
      "{'https://www.liepin.com/job/1926813841.shtml'}\n",
      "高级测试开发工程师\n",
      "{'https://www.liepin.com/job/1926744687.shtml'}\n",
      "通用软件工程师（初、中、高）\n",
      "{'https://www.liepin.com/job/1926522817.shtml'}\n",
      "测试工程师（自动化）\n",
      "{'https://www.liepin.com/job/1926387327.shtml'}\n",
      "物流平台资深后台开发工程师\n",
      "{'https://www.liepin.com/job/1925656397.shtml'}\n",
      "资深/高级Web前端工程师\n",
      "{'https://www.liepin.com/job/1922499705.shtml'}\n",
      "渗透测试工程师\n",
      "{'https://www.liepin.com/job/1919631161.shtml'}\n",
      "python架构师\n",
      "{'https://www.liepin.com/a/18708799.shtml'}\n",
      "Python高级开发工程师\n",
      "{'https://www.liepin.com/job/1926490195.shtml'}\n",
      "Python开发工程师\n",
      "{'https://www.liepin.com/job/1926489299.shtml'}\n",
      "高级python\n",
      "{'https://www.liepin.com/a/18713613.shtml'}\n",
      "Python量化系统开发工程师\n",
      "{'https://www.liepin.com/a/16027137.shtml'}\n",
      "Web服务端工程师\n",
      "{'https://www.liepin.com/job/1923666705.shtml'}\n",
      "高级软件工程师\n",
      "{'https://www.liepin.com/a/19384393.shtml'}\n",
      "Python开发工程师\n",
      "{'https://www.liepin.com/a/19135133.shtml'}\n",
      "资深Python开发工程师\n",
      "{'https://www.liepin.com/a/19106431.shtml'}\n",
      "Python工程师\n",
      "{'https://www.liepin.com/job/1926447489.shtml'}\n"
     ]
    }
   ],
   "source": [
    "from requests_html import HTMLSession\n",
    "session = HTMLSession()\n",
    "r = session.get(\"https://www.liepin.com/zhaopin/?key=python+web\")\n",
    "news = r.html.xpath('//div[@class=\"job-info\"]/h3/a')\n",
    "for new in news:\n",
    "    print(new.text)\n",
    "    print(new.absolute_links)"
   ]
  },
  {
   "cell_type": "markdown",
   "metadata": {},
   "source": [
    "### 猎聘不同城市的工作爬取\n",
    "- 猎聘网站url中的dqs值决定其城市所在"
   ]
  },
  {
   "cell_type": "code",
   "execution_count": 2,
   "metadata": {
    "scrolled": false
   },
   "outputs": [
    {
     "data": {
      "text/plain": [
       "{'测试工程师（自动化）': '广州-粤垦',\n",
       " '渗透测试工程师': '广州-东风',\n",
       " '测试工程师': '广州-荔湾区',\n",
       " 'web后端工程师': '广州',\n",
       " '中级测试工程师': '广州',\n",
       " '网络安全工程师': '广州-天河区',\n",
       " '安全渗透工程师': '广州',\n",
       " 'web前端开发经理': '广州',\n",
       " 'web前端高级工程师': '广州,北京',\n",
       " '信息安全工程师': '广州',\n",
       " '前端开发工程师1': '广州-天河区',\n",
       " 'JAVA工程师': '上海,北京,广州',\n",
       " 'cdn开发工程师': '深圳,广州',\n",
       " '游戏测试开发': '广州-天河区',\n",
       " '高级渗透工程师': '广州',\n",
       " 'Project Manager': '广州-五山',\n",
       " '大数据平台高级运维工程师': '广州',\n",
       " '安全运维工程师 30-50K·13薪': '广州',\n",
       " '网络信息安全工程师': '广州',\n",
       " 'Senior Application Developer 高级应用开发': '广州-番禺区',\n",
       " '区块链安全架构师': '广州-天河区',\n",
       " '系统测试工程师（软件测试）': '广州-天河区',\n",
       " 'Senior/Principle Java Developer 资深/首席Java开发工程师 （爱立信车联网）': '广州',\n",
       " 'Scrum Master（IoT爱立信车联网）': '广州-天河区',\n",
       " '高级软件测试工程师': '上海,北京,广州',\n",
       " 'java架构师/技术专家': '广州,深圳',\n",
       " '前端开发/前端架构': '广州-天河区',\n",
       " '安全售前工程师': '西安-高新区,广州-天河区',\n",
       " 'PHP': '广州-赤岗',\n",
       " '高级测试工程师': '广州-天河区',\n",
       " 'Automation Testing': '广州',\n",
       " '高级运维开发工程师': '广州',\n",
       " 'AI工程师（实习岗）': '广州-海珠区',\n",
       " 'Java/高级Java开发工程师': '广州-黄埔区',\n",
       " '25664-web前端高级开发工程师（广州）': '广州'}"
      ]
     },
     "execution_count": 2,
     "metadata": {},
     "output_type": "execute_result"
    }
   ],
   "source": [
    "#https://www.liepin.com/zhaopin/?&dqs=020&key=python+web 上海\n",
    "#https://www.liepin.com/zhaopin/?&dqs=050020&key=python+web 广州\n",
    "def text(url):\n",
    "    r = session.get(url)\n",
    "    news = r.html.xpath('//div[@class=\"job-info\"]/h3/a')\n",
    "    areas = r.html.xpath('//div[@class=\"job-info\"]/p/a')\n",
    "    works = []\n",
    "    places = []\n",
    "    for new in news:\n",
    "        works.append(new.text)\n",
    "    for area in areas:    \n",
    "        places.append(area.text)\n",
    "    result = dict(zip(works,places))\n",
    "    return(result)\n",
    "\n",
    "#text(\"https://www.liepin.com/zhaopin/?&dqs=020&key=python+web\") #输出上海地区的\n",
    "text(\"https://www.liepin.com/zhaopin/?&dqs=050020&key=python+web\") #输出广州地区的"
   ]
  },
  {
   "cell_type": "markdown",
   "metadata": {},
   "source": [
    "### 抽取薪水，城市等信息"
   ]
  },
  {
   "cell_type": "code",
   "execution_count": 3,
   "metadata": {
    "scrolled": true
   },
   "outputs": [
    {
     "data": {
      "text/plain": [
       "{'python web全栈开发工程师': '11-18k·14薪 南京-江宁区 本科及以上 经验不限',\n",
       " 'web 研发工程师（Golang/Python 外派高德）': '1小时前 投递后：10个工作日内反馈',\n",
       " '少儿编程老师-Web.Python.JAVA': '18-20k·12薪 北京 大专及以上 经验不限',\n",
       " 'Python后端工程师（Web方向）': '前天 投递后：5个工作日内反馈',\n",
       " 'python Web开发程序员': '10-15k·12薪 北京-白石桥 统招本科 经验不限',\n",
       " 'YF-测试开发工程师(Python Web开发)-01': '2020-03-19 投递后：72小时反馈',\n",
       " 'WEB服务架构师(Python)-重庆': '面议 上海-杨浦区 统招本科 3年以上',\n",
       " 'python web开发工程师': '一个月前 投递后：24小时反馈',\n",
       " '中高级Python/Java-web开发': '3-5k·12薪 兰州 本科及以上 经验不限',\n",
       " 'python web见习生': '一个月前 投递后：24小时反馈',\n",
       " 'python web 开发工程师': '13-15k·15薪 浙江 统招本科 4年以上',\n",
       " 'Python Web 网站开发': '一个月前 投递后：10个工作日内反馈',\n",
       " 'Python web开发工程师': '15-25k·12薪 重庆-化龙桥 本科及以上 5年以上',\n",
       " 'java/web前端/c/c++/python开发': '一个月前 投递后：7个工作日内反馈',\n",
       " 'Web后端开发工程师（Java/Python）': '20-40k·16薪 上海,广东,湖北 学历不限 3年以上',\n",
       " 'python后端软件web开发': '2020-03-18',\n",
       " 'Python web 开发工程师': '8-12k·12薪 沈阳-铁西区 大专及以上 5年以上',\n",
       " 'python web研究员(J11754)': '2020-03-12',\n",
       " 'Web后台Python高级开发工程师': '2-3k·12薪 西安 本科及以上 经验不限',\n",
       " '量化交易系统开发工程师': '12-15k·13薪 北京 大专及以上 2年以上',\n",
       " '前端工程师': '一个月前 投递后：72小时反馈',\n",
       " 'python开发工程师': '4-9k·12薪 徐州 本科及以上 经验不限',\n",
       " 'BA经理': '一个月前 投递后：7个工作日内反馈',\n",
       " '高级测试开发工程师': '6-12k·12薪 郑州-高新区 本科及以上 2年以上',\n",
       " '通用软件工程师（初、中、高）': '一个月前 投递后：72小时反馈',\n",
       " '测试工程师（自动化）': '8-18k·12薪 成都 统招本科 1年以上',\n",
       " '物流平台资深后台开发工程师': '一个月前 投递后：24小时反馈',\n",
       " '资深/高级Web前端工程师': '面议 北京-中关村 学历不限 3年以上',\n",
       " '渗透测试工程师': '一个月前 投递后：7个工作日内反馈',\n",
       " 'python架构师': '8-11k·12薪 东莞-松山湖 本科及以上 1年以上',\n",
       " 'Python高级开发工程师': '一个月前 投递后：7个工作日内反馈',\n",
       " 'Python开发工程师': '一个月前 投递后：7个工作日内反馈',\n",
       " '高级python': '一个月前 投递后：72小时反馈',\n",
       " 'Python量化系统开发工程师': '30-50k·12薪 北京-昌平区 本科及以上 5年以上',\n",
       " 'Web服务端工程师': '一个月前 投递后：24小时反馈',\n",
       " '高级软件工程师': '15-30k·12薪 北京-北太平庄 本科及以上 3年以上',\n",
       " '资深Python开发工程师': '15-30k·12薪 北京 本科及以上 经验不限',\n",
       " 'Python工程师': '一个月前 投递后：5个工作日内反馈'}"
      ]
     },
     "execution_count": 3,
     "metadata": {},
     "output_type": "execute_result"
    }
   ],
   "source": [
    "r = session.get(\"https://www.liepin.com/zhaopin/?key=python+web\")\n",
    "news = r.html.xpath('//div[@class=\"job-info\"]/h3/a')\n",
    "informations = r.html.xpath('//div[@class=\"job-info\"]/p')\n",
    "works = []\n",
    "factor = []\n",
    "for new in news:\n",
    "    works.append(new.text)\n",
    "for information in informations:    \n",
    "    factor.append(information.text)\n",
    "result = dict(zip(works,factor))\n",
    "result"
   ]
  },
  {
   "cell_type": "markdown",
   "metadata": {},
   "source": [
    "### 抓取图片新闻"
   ]
  },
  {
   "cell_type": "code",
   "execution_count": 1,
   "metadata": {
    "scrolled": false
   },
   "outputs": [
    {
     "name": "stdout",
     "output_type": "stream",
     "text": [
      "/govweb/c1465t/202003/5494710/images/1a0920218d3e4a48a5ffbf1bf1964d32.jpg\n",
      "/govweb/c1465t/202003/5494351/images/39c6f2100e504230ab29797c144ecdc5.jpg\n",
      "/govweb/c1465t/202003/5494178/images/62b7c2c8e4634b0088c94182bfcef392.jpg\n",
      "/govweb/c1465t/202003/5494728/images/08b96adb685249328ce2276e7b089fb1.jpg\n",
      "/govweb/c1465t/202003/5494709/images/84d84b9ad27a4cfdb535943a8de5ed13.jpg\n",
      "/govweb/c1465t/202003/5494624/images/20f5f9b6847f4acaa7f88cd196c8eeaf.jpg\n",
      "/govweb/c1465t/202003/5494730/images/2f0a98a5f0e84818b51287607b970fd2.jpg\n",
      "/govweb/c1465t/202003/5494715/images/c006021d532e44dd8d6625be1869e175.jpg\n",
      "/govweb/c1465t/202003/5494669/images/73de27f93e144952a1fb17f7bed02304.jpg\n",
      "/govweb/c1465t/202003/5494046/images/7d4602eed4f3431c9522397fef6087bb.jpg\n",
      "/govweb/c1465t/202003/5494042/images/db6780d177e943dfab5d07ec4ea89b73.jpg\n",
      "/govweb/c1465t/202003/5491690/images/9d338dfa93c4400ca3d3b1578e2aba89.jpg\n",
      "/govweb/c1465t/202003/5493057/images/604fe675b96a4febad6e67f19d4e17c7.jpg\n",
      "/govweb/c1465t/202003/5491871/images/c650c9be9bc0451484d501b346bd857c.jpg\n",
      "/govweb/c1465t/202003/5491547/images/70f09cc463d248b284eea4a102837210.jpg\n",
      "https://certify.alexametrics.com/atrk.gif?account=noGfn1aMp4107i\n",
      "{'content': '国新办举行中医药防治新冠肺炎重要作用及有效药物发布会'}\n",
      "{'content': '国务院联防联控机制就保障春耕生产农资供应工作情况举行新闻发布会'}\n",
      "{'content': '国新办举行应对国际疫情影响维护金融市场稳定发布会'}\n",
      "{'content': '山东滨州：绳网企业火热复工'}\n",
      "{'content': '“家门口”的扶贫产业复工忙'}\n",
      "{'content': '西藏林芝：示范果园春来早'}\n",
      "{'content': '福建支援湖北医疗队平安归来'}\n",
      "{'content': '新疆：开学防疫第一课'}\n",
      "{'content': '广西南宁：免费为援鄂医护人员寄递返程行李'}\n",
      "{'content': '北京：部分餐厅恢复堂食'}\n",
      "{'content': '长沙博物馆恢复对外开放'}\n",
      "{'content': '河北滦州：“空中课堂”学非遗'}\n",
      "{'content': '菜花黄时春正好'}\n",
      "{'content': '春日里的“鹭鸟王国”'}\n",
      "{'content': '南京：谷里花开迎春来'}\n"
     ]
    }
   ],
   "source": [
    "from IPython.core.display import display, Markdown\n",
    "from requests_html import HTMLSession\n",
    "session = HTMLSession()\n",
    "r = session.get(\"http://www.gov.cn/xinwen/tupian/index.htm\")\n",
    "items = r.html.xpath('//img/@src')\n",
    "contents = r.html.xpath('//div[@class=\"subtitle\"]/a')\n",
    "for url in items:\n",
    "    print(url)\n",
    "    #display(Markdown('![](http://www.gov.cn/{url})'.format(url=url)))\n",
    "for content in contents:\n",
    "    print({'content':content.text})#图说信息"
   ]
  },
  {
   "cell_type": "markdown",
   "metadata": {},
   "source": [
    "### 按栏目抽取图片，图说等"
   ]
  },
  {
   "cell_type": "code",
   "execution_count": 2,
   "metadata": {
    "scrolled": true
   },
   "outputs": [
    {
     "name": "stdout",
     "output_type": "stream",
     "text": [
      "https://certify.alexametrics.com/atrk.gif?account=noGfn1aMp4107i\n",
      "https://certify.alexametrics.com/atrk.gif?account=noGfn1aMp4107i\n",
      "https://certify.alexametrics.com/atrk.gif?account=noGfn1aMp4107i\n",
      "https://certify.alexametrics.com/atrk.gif?account=noGfn1aMp4107i\n",
      "https://certify.alexametrics.com/atrk.gif?account=noGfn1aMp4107i\n",
      "https://certify.alexametrics.com/atrk.gif?account=noGfn1aMp4107i\n",
      "https://certify.alexametrics.com/atrk.gif?account=noGfn1aMp4107i\n",
      "https://certify.alexametrics.com/atrk.gif?account=noGfn1aMp4107i\n",
      "https://certify.alexametrics.com/atrk.gif?account=noGfn1aMp4107i\n",
      "https://certify.alexametrics.com/atrk.gif?account=noGfn1aMp4107i\n",
      "https://certify.alexametrics.com/atrk.gif?account=noGfn1aMp4107i\n",
      "{'content': '阳光美少女'}\n",
      "{'content': '青春阳光 充满活力'}\n",
      "{'content': '丸子头美女'}\n",
      "{'content': '清新美女'}\n",
      "{'content': '邻家美女'}\n",
      "{'content': '文艺女生'}\n",
      "{'content': '可爱甜美女生'}\n",
      "{'content': '剑道美女'}\n",
      "{'content': '日系少女'}\n",
      "{'content': '俏皮女生'}\n",
      "{'content': '泳池美女'}\n",
      "{'content': '韩范儿女生'}\n"
     ]
    }
   ],
   "source": [
    "r = session.get(\"https://cn.bing.com/images/trending\")\n",
    "labels = r.html.xpath('//*[@id=\"ilp_t\"]/div/h2[contains(text(),\"美女\")]/../div/div/div/div/a/img/@src') #可更改变量\n",
    "contents = r.html.xpath('//*[@id=\"ilp_t\"]/div/h2[contains(text(),\"美女\")]/../div/div/div/div/div/a/div')\n",
    "for label_url in labels:\n",
    "    print(url)\n",
    "    #display(Markdown('![]({url})'.format(url=label_url)))\n",
    "for content in contents:\n",
    "    print({'content':content.text})#图说信息"
   ]
  },
  {
   "cell_type": "markdown",
   "metadata": {},
   "source": [
    "### CDL豆瓣电影排行榜"
   ]
  },
  {
   "cell_type": "code",
   "execution_count": 43,
   "metadata": {},
   "outputs": [
    {
     "data": {
      "text/plain": [
       "[Empty DataFrame\n",
       " Columns: []\n",
       " Index: [], Empty DataFrame\n",
       " Columns: [小妇人  / 她们(台)  2019-12-25(美国) / 2020(中国大陆) / 西尔莎·罗南 / 艾玛·沃森 / 弗洛伦斯·皮尤 / 伊莱扎·斯坎伦 / 劳拉·邓恩 / 蒂莫西·柴勒梅德 / 梅丽尔·斯特里普 / 鲍勃·奥登科克 / 詹姆斯·诺顿 / 路易·加瑞尔 / 克里斯·库珀 / 崔西·莱茨 / 艾比·奎因...  8.1  (130127人评价)]\n",
       " Index: [], Empty DataFrame\n",
       " Columns: [1917  / 1917：逆战救兵(港) / 一九一七  2019-12-25(美国) / 2020-01-10(英国) / 2020(中国大陆) / 乔治·麦凯 / 迪恩·查尔斯·查普曼 / 科林·费尔斯 / 本尼迪克特·康伯巴奇 / 马克·斯特朗 / 理查德·麦登 / 安德鲁·斯科特 / 丹尼尔·梅斯 / 阿德里安·斯卡伯勒 / 约翰·霍林沃思 / 克里斯·瓦利...  8.5  (164078人评价)]\n",
       " Index: [], Empty DataFrame\n",
       " Columns: [大赢家  / The Winners  [可播放]  2020-03-20(中国大陆) / 大鹏 / 柳岩 / 代乐乐 / 张子贤 / 田雨 / 孟鹤堂 / 陶慧 / 许娣 / 王戈 / 杜源 / 阿如那 / 张绍荣 / 张帆 / 夏甄 / 杨砚铎 / 臧鸿飞 / 李萍 / 乔晟一 / 孟非 / 屈菁菁 / 腾格尔 / 叶晞月 / 杜维瀚 / 耿业庭 / 中国大陆 / 于淼...  6.8  (54559人评价)]\n",
       " Index: [], Empty DataFrame\n",
       " Columns: [南山的部长们  / The Man Standing Next  2020-01-22(韩国) / 李秉宪 / 李星民 / 郭度沅 / 李熙俊 / 金素真 / 徐贤宇 / 朴智一 / 李泰亨 / 金昇勋 / 金明善 / 朴成根 / 郑钟宇 / 金民尚 / 周锡泰 / 成民秀 / 赵惠珠 / 孙炳旭 / 朴炫宇 / 严志满 / 柳正浩 / 金弘波 / 李东国 / 韩国 / 禹民镐...  8.1  (57863人评价)]\n",
       " Index: [], Empty DataFrame\n",
       " Columns: [猛禽小队和哈莉·奎茵  / 哈莉·奎因：猛禽小队 / 猛禽小队  2020-02-07(美国) / 玛格特·罗比 / 玛丽·伊丽莎白·温斯特德 / 罗茜·佩雷兹 / 朱尼·斯莫利特 / 伊万·麦克格雷格 / 埃拉·杰伊·巴斯科 / 克里斯·梅西纳 / 黄阿丽 / 戴维·尤里 / 萨拉·蒙特斯 / 伊莎贝尔·帕克扎德 / 丹尼尔·伯哈特 / 帕洛马·拉比诺夫...  5.8  (34692人评价)]\n",
       " Index: [], Empty DataFrame\n",
       " Columns: [逃离比勒陀利亚  2020-03-06(英国) / 丹尼尔·雷德克里夫 / 伊恩·哈特 / 丹尼尔·韦伯 / 内森·佩吉 / 斯蒂芬·亨特 / 马克·伦纳德·温特 / 珍妮特·克罗宁 / 山姆·尼尔 / Ratidzo Mambo / 英国 / 澳大利亚 / 弗朗西斯·安南 / 106分钟 / 逃离比勒陀利亚 / 剧情 / 犯罪...  7.6  (12459人评价)]\n",
       " Index: [], Empty DataFrame\n",
       " Columns: [隐形人  / 隐身人 / 隐形客(港)  2020-02-28(美国) / 伊丽莎白·莫斯 / 奥利弗·杰森-科恩 / 哈丽特·戴尔 / 阿尔迪斯·霍吉 / 斯托姆·瑞德 / 迈克尔·多曼 / 本尼迪克·哈迪 / 瑞妮·林 / 布莱恩·米根 / 薇薇安·格里尔 / 尼古拉斯·霍普 / 克利夫·威廉姆斯 / 萨姆·史密斯...  7.4  (17672人评价)]\n",
       " Index: [], Empty DataFrame\n",
       " Columns: [误杀  / 误杀瞒天记中国版 / Sheep Without a Shepherd  [可播放]  2019-12-07(大规模点映) / 2019-12-13(中国大陆) / 肖央 / 谭卓 / 陈冲 / 姜皓文 / 秦沛 / 边天扬 / 许文姗 / 张熙然 / 施名帅 / 黄健玮 / 谷洋 / 陈志朋 / 张林 / 中国大陆 / 柯汶利 / 112分钟 / 剧情 / 犯罪 / 悬疑 / 杨薇薇 Weiwei Yang / 翟培 / 李鹏...  7.7  (457590人评价)]\n",
       " Index: [], Empty DataFrame\n",
       " Columns: [寄生虫  / 寄生上流(台) / 上流寄生族(港)  2019-05-21(戛纳电影节) / 2019-05-30(韩国) / 宋康昊 / 李善均 / 赵汝贞 / 崔宇植 / 朴素丹 / 李静恩 / 张慧珍 / 郑知晓 / 朴明勋 / 朴叙俊 / 朴根祿 / 郑贤俊 / 朴孝新 / 安德烈亚斯·弗龙克 / 郑益汉 / 李东勇 / 李柱亨 / 林艺恩 / 韩国 / 奉俊昊...  8.7  (905549人评价)]\n",
       " Index: [], Empty DataFrame\n",
       " Columns: [黑水  / 追击黑水真相(港) / 黑水风暴(台)  2019-11-22(美国点映) / 2019-12-06(美国) / 马克·鲁弗洛 / 安妮·海瑟薇 / 蒂姆·罗宾斯 / 比尔·坎普 / 维克多·加博 / 比尔·普尔曼 / 梅尔·温宁汉姆 / 威廉·杰克森·哈珀 / 路易莎·克劳瑟 / 凯文·克劳利 / 丹尼尔·R·希尔 / 王明 / 西尼·迈尔斯...  8.5  (43184人评价)]\n",
       " Index: []]"
      ]
     },
     "execution_count": 43,
     "metadata": {},
     "output_type": "execute_result"
    }
   ],
   "source": [
    "import requests\n",
    "from urllib import parse\n",
    "_headers_ = {\n",
    "        \"Accept\": \"text/plain, */*; q=0.01\", \n",
    "        \"Connection\": \"keep-alive\",\n",
    "        \"Host\" : \"movie.douban.com\", \n",
    "        \"User-Agent\" : \"Mozilla/5.0 (Windows NT 10.0; WOW64) AppleWebKit/537.36 (KHTML, like Gecko) Chrome/62.0.3250.0 Iron Safari/537.36\",\n",
    "}\n",
    "s = requests\n",
    "u = 'https://movie.douban.com/chart'\n",
    "r = s.get(u, headers=_headers_)\n",
    "df = pd.read_html(r.content, encoding=\"utf8\", header=0, index_col=0)\n",
    "df"
   ]
  }
 ],
 "metadata": {
  "kernelspec": {
   "display_name": "Python 3",
   "language": "python",
   "name": "python3"
  },
  "language_info": {
   "codemirror_mode": {
    "name": "ipython",
    "version": 3
   },
   "file_extension": ".py",
   "mimetype": "text/x-python",
   "name": "python",
   "nbconvert_exporter": "python",
   "pygments_lexer": "ipython3",
   "version": "3.7.0"
  },
  "toc": {
   "base_numbering": 1,
   "nav_menu": {},
   "number_sections": true,
   "sideBar": true,
   "skip_h1_title": false,
   "title_cell": "Table of Contents",
   "title_sidebar": "Contents",
   "toc_cell": false,
   "toc_position": {},
   "toc_section_display": true,
   "toc_window_display": false
  }
 },
 "nbformat": 4,
 "nbformat_minor": 2
}
